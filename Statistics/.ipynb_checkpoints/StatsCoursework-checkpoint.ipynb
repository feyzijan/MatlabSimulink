{
 "cells": [
  {
   "cell_type": "code",
   "execution_count": 43,
   "id": "e1badad2",
   "metadata": {
    "ExecuteTime": {
     "end_time": "2022-03-05T20:53:42.397943Z",
     "start_time": "2022-03-05T20:53:42.389944Z"
    }
   },
   "outputs": [],
   "source": [
    "import pandas as pd\n",
    "import numpy as np\n",
    "import matplotlib.pyplot as pp"
   ]
  },
  {
   "cell_type": "code",
   "execution_count": 44,
   "id": "72c5c552",
   "metadata": {
    "ExecuteTime": {
     "end_time": "2022-03-05T20:53:42.659918Z",
     "start_time": "2022-03-05T20:53:42.639920Z"
    }
   },
   "outputs": [],
   "source": [
    "my_data = pd.read_csv(\"train1778525.csv\")"
   ]
  },
  {
   "cell_type": "code",
   "execution_count": 45,
   "id": "5519f85f",
   "metadata": {
    "ExecuteTime": {
     "end_time": "2022-03-05T20:53:42.845393Z",
     "start_time": "2022-03-05T20:53:42.830391Z"
    }
   },
   "outputs": [
    {
     "data": {
      "text/html": [
       "<div>\n",
       "<style scoped>\n",
       "    .dataframe tbody tr th:only-of-type {\n",
       "        vertical-align: middle;\n",
       "    }\n",
       "\n",
       "    .dataframe tbody tr th {\n",
       "        vertical-align: top;\n",
       "    }\n",
       "\n",
       "    .dataframe thead th {\n",
       "        text-align: right;\n",
       "    }\n",
       "</style>\n",
       "<table border=\"1\" class=\"dataframe\">\n",
       "  <thead>\n",
       "    <tr style=\"text-align: right;\">\n",
       "      <th></th>\n",
       "      <th>l100</th>\n",
       "      <th>mass</th>\n",
       "      <th>time100</th>\n",
       "      <th>displacement</th>\n",
       "      <th>type</th>\n",
       "      <th>colour</th>\n",
       "    </tr>\n",
       "  </thead>\n",
       "  <tbody>\n",
       "    <tr>\n",
       "      <th>0</th>\n",
       "      <td>3.6</td>\n",
       "      <td>997</td>\n",
       "      <td>8.6</td>\n",
       "      <td>4.2</td>\n",
       "      <td>diesel</td>\n",
       "      <td>other</td>\n",
       "    </tr>\n",
       "    <tr>\n",
       "      <th>1</th>\n",
       "      <td>4.8</td>\n",
       "      <td>2050</td>\n",
       "      <td>10.6</td>\n",
       "      <td>3.1</td>\n",
       "      <td>diesel</td>\n",
       "      <td>other</td>\n",
       "    </tr>\n",
       "    <tr>\n",
       "      <th>2</th>\n",
       "      <td>4.6</td>\n",
       "      <td>1265</td>\n",
       "      <td>9.7</td>\n",
       "      <td>3.3</td>\n",
       "      <td>diesel</td>\n",
       "      <td>other</td>\n",
       "    </tr>\n",
       "    <tr>\n",
       "      <th>3</th>\n",
       "      <td>4.3</td>\n",
       "      <td>1578</td>\n",
       "      <td>9.5</td>\n",
       "      <td>2.9</td>\n",
       "      <td>diesel</td>\n",
       "      <td>other</td>\n",
       "    </tr>\n",
       "    <tr>\n",
       "      <th>4</th>\n",
       "      <td>4.9</td>\n",
       "      <td>2343</td>\n",
       "      <td>11.8</td>\n",
       "      <td>1.7</td>\n",
       "      <td>diesel</td>\n",
       "      <td>other</td>\n",
       "    </tr>\n",
       "  </tbody>\n",
       "</table>\n",
       "</div>"
      ],
      "text/plain": [
       "   l100  mass  time100  displacement    type colour\n",
       "0   3.6   997      8.6           4.2  diesel  other\n",
       "1   4.8  2050     10.6           3.1  diesel  other\n",
       "2   4.6  1265      9.7           3.3  diesel  other\n",
       "3   4.3  1578      9.5           2.9  diesel  other\n",
       "4   4.9  2343     11.8           1.7  diesel  other"
      ]
     },
     "execution_count": 45,
     "metadata": {},
     "output_type": "execute_result"
    }
   ],
   "source": [
    "my_data.head()"
   ]
  },
  {
   "cell_type": "code",
   "execution_count": 46,
   "id": "e5a83a8a",
   "metadata": {
    "ExecuteTime": {
     "end_time": "2022-03-05T20:53:42.998697Z",
     "start_time": "2022-03-05T20:53:42.988711Z"
    }
   },
   "outputs": [
    {
     "data": {
      "text/plain": [
       "array([ 3.6,  4.8,  4.6,  4.3,  4.9,  3.7,  5.1,  3.9,  2.6,  3.5,  4.3,\n",
       "        4.1,  5.6,  3.6,  5.1,  3.5,  3.6,  4. ,  3.1,  4.1,  4.2,  3.8,\n",
       "        4.2,  3.9,  3.3,  4. ,  3.6,  3.1,  4.4,  5. ,  3.4,  4. ,  3.9,\n",
       "        3.8,  4.7,  3.5,  3.4,  4.7,  3.4,  4.6,  3.2,  3.9,  4.9,  3. ,\n",
       "        3.9,  4.8,  3.6,  4.2,  3.3,  5.1,  4.2,  5.6,  4.1,  3.6,  4.2,\n",
       "        3.3,  3.8,  5. ,  3.6,  4.8,  6.4,  4.4,  3.4,  4.5,  3.7,  3.5,\n",
       "        2.9,  3.9,  4.2,  3.6,  4.3,  4.7,  4.8,  3.9,  4.5,  5. ,  4.1,\n",
       "        3.5,  4.9,  5.8,  4.6,  4.7,  4.2,  5.2,  3.9,  3.5,  4.9,  4.2,\n",
       "        4.8,  4.1,  3.1,  3.6,  4.4,  3.7,  3.9,  4.4,  3.4,  4.3,  4.2,\n",
       "        5. ,  4.1,  3. ,  4.8,  4.1,  3.2,  4.4,  3.9,  5.1,  5.2,  3.6,\n",
       "        3.5,  3.6,  3.8,  4.6,  4.6,  3.8,  3.5,  3.5,  3.7,  3.6,  6.4,\n",
       "        3.8,  3.4,  5.2,  3.8,  3.5,  5.1,  4.7,  3.5,  4.4,  4.2,  3.9,\n",
       "        4.4,  5.2,  4.4,  4.3,  3.6,  4.7,  4.2,  4. ,  4.7,  4.7,  5.1,\n",
       "        3.3,  3.7,  4.7,  4.6,  3.6,  4.8,  4.7,  3. ,  4.1,  3.7,  5.2,\n",
       "        4.8,  5.2,  4.2,  3.9,  4.4,  4.1,  4.1,  4.4,  4.2,  4.3,  4.3,\n",
       "        5.4,  4.1,  4.1,  3.9,  4.9,  4.6,  3. ,  3.8,  3. ,  4.1,  4.2,\n",
       "        5.1,  3.6,  3.7,  4.5,  6.2,  3.8,  3.6,  3.7,  3.8,  3.3,  5.5,\n",
       "        4.3,  3.5,  3.9,  3. ,  5.9,  3.3,  5. ,  3.4,  3.6,  4.5,  4. ,\n",
       "        3.3,  4.3,  3.9,  3.7,  3.3,  2.7,  3.4,  4.6,  3.3,  3.7,  4. ,\n",
       "        4.1,  5.2,  4.1,  4. ,  4.3,  4.4,  3.8,  2.9,  5.5,  3.1,  3.6,\n",
       "        4.3,  3.3,  3.2,  3.9,  4.6,  4.2,  4.6,  4.2,  4. ,  4.3,  3.9,\n",
       "        4.9,  5. ,  3.9,  3.4,  4.4,  4.1,  3.7,  4.6,  4.5,  5. ,  4.8,\n",
       "        2.7,  4. ,  4.3,  4.3,  3.3,  4.1,  3.9,  3.7,  8.9,  6.3,  4.9,\n",
       "        9.4,  4. ,  7.3,  4.8,  5.4,  9.5,  8. ,  4.7,  3.7,  7.6,  4.5,\n",
       "        4.8,  5.9,  5.5,  7.2,  8.9, 10.8,  3.7,  4. ,  6.7,  9. ,  7.3,\n",
       "        7.3,  8.1,  5. ,  3.3,  4.5,  4.7,  4.2,  7.6,  4.2,  7.7,  7.4,\n",
       "        4.9,  4.5,  7.2,  5. ,  5.4,  7.3,  5.2,  4.5,  3.8,  5.4,  5.1,\n",
       "        3.4,  7.4,  6.2,  4. ,  7.5,  5.5,  4.5,  7.3,  6.2,  4.1,  6.2,\n",
       "        4.3,  4.1,  5.8,  9.9,  4.6,  5.6,  3.2,  5.1,  7.9,  9.3,  4.2,\n",
       "        3.3,  6.5,  4.4,  3.3,  7.4,  7.1,  4.4,  5.6,  4.2,  6.1,  4.6,\n",
       "        5.9,  3.6,  7.5,  4.1,  6.8,  3.6,  8. ,  4.3,  9.1,  6.6,  5. ,\n",
       "        5.3,  5. ,  8.1,  3.7,  6.4,  5.2,  8.3,  5.6,  4.8,  6.5,  5.7,\n",
       "        4.4,  3.8,  4.7,  3.8,  5.3,  3. ,  3.7,  7.7,  7.9,  6.2,  4.9,\n",
       "        3.7,  8.1,  6.3,  6.1,  4.1,  6.6,  7.2,  6.2,  4.4,  6.9,  4.8,\n",
       "        4.8,  4.5,  6.5,  8.8,  8.4,  6.6,  4.7,  3.1,  4.4,  8.2,  3.7,\n",
       "        4.4,  3.3,  5. ,  4.1,  6.2,  7.7,  6.6,  3.9,  6.4,  3.9,  8.1,\n",
       "        3.1,  6.7,  4. ,  5.5,  8.7,  8.1,  4.3,  5.7,  3.4,  3.7,  4.2,\n",
       "        7.8,  4.3,  4.8,  5.8,  6.6,  5.3,  7. ,  3.6,  6.7,  8.5,  4.1,\n",
       "        7.4,  3.7,  4.5,  4.5,  3.6,  3.6,  4.9,  4.1,  5.1,  5.5,  4.5,\n",
       "        4.5,  4.8,  4.4,  5.3,  7.7,  4.4,  5.6,  5.3,  4.4,  4.1,  4.8,\n",
       "        4. ,  4.9,  5.6,  4.9,  7.7,  8.1,  3.5,  4.7,  8.9,  7.3,  7.7,\n",
       "        6.2,  4.1,  9.2,  3.4,  5. ,  7.2,  7.5,  7.6,  4.8,  8.7,  3.9,\n",
       "        6.8,  4.2,  4.2,  4.5,  4.9,  4.4,  8. ,  7. ,  5.4,  5.2,  9.6,\n",
       "        4.7,  8.2,  6.7,  6.3,  6.8,  3.6,  6.2,  3.7,  3.4,  3.7,  4.4,\n",
       "        8.9,  5. ,  6.3,  3.8,  9. ,  6.4,  5.8,  3.9,  7.3,  9.7,  7.7,\n",
       "        6.4,  5.4,  6.2,  5.7,  5.8])"
      ]
     },
     "execution_count": 46,
     "metadata": {},
     "output_type": "execute_result"
    }
   ],
   "source": [
    "y = np.array(my_data[\"l100\"])\n",
    "y"
   ]
  },
  {
   "cell_type": "code",
   "execution_count": 47,
   "id": "55445639",
   "metadata": {
    "ExecuteTime": {
     "end_time": "2022-03-05T20:53:43.182286Z",
     "start_time": "2022-03-05T20:53:43.165286Z"
    }
   },
   "outputs": [
    {
     "name": "stdout",
     "output_type": "stream",
     "text": [
      "<class 'pandas.core.frame.DataFrame'>\n",
      "RangeIndex: 500 entries, 0 to 499\n",
      "Data columns (total 6 columns):\n",
      " #   Column        Non-Null Count  Dtype  \n",
      "---  ------        --------------  -----  \n",
      " 0   l100          500 non-null    float64\n",
      " 1   mass          500 non-null    int64  \n",
      " 2   time100       500 non-null    float64\n",
      " 3   displacement  500 non-null    float64\n",
      " 4   type          500 non-null    object \n",
      " 5   colour        500 non-null    object \n",
      "dtypes: float64(3), int64(1), object(2)\n",
      "memory usage: 23.6+ KB\n"
     ]
    }
   ],
   "source": [
    "my_data.info()"
   ]
  },
  {
   "cell_type": "code",
   "execution_count": 48,
   "id": "ea901a47",
   "metadata": {
    "ExecuteTime": {
     "end_time": "2022-03-05T20:53:43.411619Z",
     "start_time": "2022-03-05T20:53:43.384750Z"
    },
    "scrolled": true
   },
   "outputs": [
    {
     "data": {
      "text/html": [
       "<div>\n",
       "<style scoped>\n",
       "    .dataframe tbody tr th:only-of-type {\n",
       "        vertical-align: middle;\n",
       "    }\n",
       "\n",
       "    .dataframe tbody tr th {\n",
       "        vertical-align: top;\n",
       "    }\n",
       "\n",
       "    .dataframe thead th {\n",
       "        text-align: right;\n",
       "    }\n",
       "</style>\n",
       "<table border=\"1\" class=\"dataframe\">\n",
       "  <thead>\n",
       "    <tr style=\"text-align: right;\">\n",
       "      <th></th>\n",
       "      <th>l100</th>\n",
       "      <th>mass</th>\n",
       "      <th>time100</th>\n",
       "      <th>displacement</th>\n",
       "    </tr>\n",
       "  </thead>\n",
       "  <tbody>\n",
       "    <tr>\n",
       "      <th>count</th>\n",
       "      <td>500.000000</td>\n",
       "      <td>500.000000</td>\n",
       "      <td>500.000000</td>\n",
       "      <td>500.000000</td>\n",
       "    </tr>\n",
       "    <tr>\n",
       "      <th>mean</th>\n",
       "      <td>4.922000</td>\n",
       "      <td>1562.604000</td>\n",
       "      <td>9.965800</td>\n",
       "      <td>2.871800</td>\n",
       "    </tr>\n",
       "    <tr>\n",
       "      <th>std</th>\n",
       "      <td>1.529167</td>\n",
       "      <td>463.605301</td>\n",
       "      <td>1.374973</td>\n",
       "      <td>0.918494</td>\n",
       "    </tr>\n",
       "    <tr>\n",
       "      <th>min</th>\n",
       "      <td>2.600000</td>\n",
       "      <td>898.000000</td>\n",
       "      <td>5.300000</td>\n",
       "      <td>1.100000</td>\n",
       "    </tr>\n",
       "    <tr>\n",
       "      <th>25%</th>\n",
       "      <td>3.900000</td>\n",
       "      <td>1132.750000</td>\n",
       "      <td>9.000000</td>\n",
       "      <td>2.200000</td>\n",
       "    </tr>\n",
       "    <tr>\n",
       "      <th>50%</th>\n",
       "      <td>4.400000</td>\n",
       "      <td>1486.500000</td>\n",
       "      <td>10.000000</td>\n",
       "      <td>2.700000</td>\n",
       "    </tr>\n",
       "    <tr>\n",
       "      <th>75%</th>\n",
       "      <td>5.500000</td>\n",
       "      <td>1967.000000</td>\n",
       "      <td>10.900000</td>\n",
       "      <td>3.400000</td>\n",
       "    </tr>\n",
       "    <tr>\n",
       "      <th>max</th>\n",
       "      <td>10.800000</td>\n",
       "      <td>2440.000000</td>\n",
       "      <td>13.900000</td>\n",
       "      <td>6.900000</td>\n",
       "    </tr>\n",
       "  </tbody>\n",
       "</table>\n",
       "</div>"
      ],
      "text/plain": [
       "             l100         mass     time100  displacement\n",
       "count  500.000000   500.000000  500.000000    500.000000\n",
       "mean     4.922000  1562.604000    9.965800      2.871800\n",
       "std      1.529167   463.605301    1.374973      0.918494\n",
       "min      2.600000   898.000000    5.300000      1.100000\n",
       "25%      3.900000  1132.750000    9.000000      2.200000\n",
       "50%      4.400000  1486.500000   10.000000      2.700000\n",
       "75%      5.500000  1967.000000   10.900000      3.400000\n",
       "max     10.800000  2440.000000   13.900000      6.900000"
      ]
     },
     "execution_count": 48,
     "metadata": {},
     "output_type": "execute_result"
    }
   ],
   "source": [
    "my_data.describe()"
   ]
  },
  {
   "cell_type": "code",
   "execution_count": 49,
   "id": "bece0ba3",
   "metadata": {
    "ExecuteTime": {
     "end_time": "2022-03-05T20:53:44.245524Z",
     "start_time": "2022-03-05T20:53:43.741066Z"
    }
   },
   "outputs": [
    {
     "data": {
      "image/png": "[encoded data removed]",
      "text/plain": [
       "<Figure size 1440x1080 with 4 Axes>"
      ]
     },
     "metadata": {
      "needs_background": "light"
     },
     "output_type": "display_data"
    }
   ],
   "source": [
    "%matplotlib inline\n",
    "import matplotlib.pyplot as plt\n",
    "my_data.hist(bins=50, figsize=(20,15))\n",
    "plt.show()"
   ]
  },
  {
   "cell_type": "markdown",
   "id": "06f536f1",
   "metadata": {},
   "source": [
    "Convert categorical variable  fuel type to 0,1"
   ]
  },
  {
   "cell_type": "code",
   "execution_count": 51,
   "id": "d76f524e",
   "metadata": {
    "ExecuteTime": {
     "end_time": "2022-03-05T20:53:49.371693Z",
     "start_time": "2022-03-05T20:53:49.357273Z"
    }
   },
   "outputs": [
    {
     "data": {
      "text/html": [
       "<div>\n",
       "<style scoped>\n",
       "    .dataframe tbody tr th:only-of-type {\n",
       "        vertical-align: middle;\n",
       "    }\n",
       "\n",
       "    .dataframe tbody tr th {\n",
       "        vertical-align: top;\n",
       "    }\n",
       "\n",
       "    .dataframe thead th {\n",
       "        text-align: right;\n",
       "    }\n",
       "</style>\n",
       "<table border=\"1\" class=\"dataframe\">\n",
       "  <thead>\n",
       "    <tr style=\"text-align: right;\">\n",
       "      <th></th>\n",
       "      <th>l100</th>\n",
       "      <th>mass</th>\n",
       "      <th>time100</th>\n",
       "      <th>displacement</th>\n",
       "      <th>type</th>\n",
       "      <th>colour</th>\n",
       "    </tr>\n",
       "  </thead>\n",
       "  <tbody>\n",
       "    <tr>\n",
       "      <th>0</th>\n",
       "      <td>3.6</td>\n",
       "      <td>997</td>\n",
       "      <td>8.6</td>\n",
       "      <td>4.2</td>\n",
       "      <td>0</td>\n",
       "      <td>1</td>\n",
       "    </tr>\n",
       "    <tr>\n",
       "      <th>1</th>\n",
       "      <td>4.8</td>\n",
       "      <td>2050</td>\n",
       "      <td>10.6</td>\n",
       "      <td>3.1</td>\n",
       "      <td>0</td>\n",
       "      <td>1</td>\n",
       "    </tr>\n",
       "    <tr>\n",
       "      <th>2</th>\n",
       "      <td>4.6</td>\n",
       "      <td>1265</td>\n",
       "      <td>9.7</td>\n",
       "      <td>3.3</td>\n",
       "      <td>0</td>\n",
       "      <td>1</td>\n",
       "    </tr>\n",
       "    <tr>\n",
       "      <th>3</th>\n",
       "      <td>4.3</td>\n",
       "      <td>1578</td>\n",
       "      <td>9.5</td>\n",
       "      <td>2.9</td>\n",
       "      <td>0</td>\n",
       "      <td>1</td>\n",
       "    </tr>\n",
       "    <tr>\n",
       "      <th>4</th>\n",
       "      <td>4.9</td>\n",
       "      <td>2343</td>\n",
       "      <td>11.8</td>\n",
       "      <td>1.7</td>\n",
       "      <td>0</td>\n",
       "      <td>1</td>\n",
       "    </tr>\n",
       "  </tbody>\n",
       "</table>\n",
       "</div>"
      ],
      "text/plain": [
       "   l100  mass  time100  displacement  type  colour\n",
       "0   3.6   997      8.6           4.2     0       1\n",
       "1   4.8  2050     10.6           3.1     0       1\n",
       "2   4.6  1265      9.7           3.3     0       1\n",
       "3   4.3  1578      9.5           2.9     0       1\n",
       "4   4.9  2343     11.8           1.7     0       1"
      ]
     },
     "execution_count": 51,
     "metadata": {},
     "output_type": "execute_result"
    }
   ],
   "source": [
    "my_data[\"type\"].replace([\"diesel\", \"petrol\"]\n",
    "                       , [0,1], inplace=True)\n",
    "my_data[\"colour\"].replace([\"white\", \"other\"]\n",
    "                       , [0,1], inplace=True)\n",
    "my_data.head()"
   ]
  },
  {
   "cell_type": "code",
   "execution_count": 52,
   "id": "40816b28",
   "metadata": {
    "ExecuteTime": {
     "end_time": "2022-03-05T20:53:52.269143Z",
     "start_time": "2022-03-05T20:53:52.126142Z"
    }
   },
   "outputs": [
    {
     "data": {
      "text/plain": [
       "<AxesSubplot:xlabel='displacement', ylabel='mass'>"
      ]
     },
     "execution_count": 52,
     "metadata": {},
     "output_type": "execute_result"
    },
    {
     "data": {
      "image/png": "[encoded data removed]",
      "text/plain": [
       "<Figure size 720x504 with 2 Axes>"
      ]
     },
     "metadata": {
      "needs_background": "light"
     },
     "output_type": "display_data"
    }
   ],
   "source": [
    "my_data.plot(kind=\"scatter\", x=\"displacement\", y=\"mass\",\n",
    "            figsize=(10,7),\n",
    "            c=\"l100\", cmap=plt.get_cmap(\"jet\"), colorbar=True,\n",
    "            sharex=False)"
   ]
  },
  {
   "cell_type": "code",
   "execution_count": 60,
   "id": "e4badd68",
   "metadata": {
    "ExecuteTime": {
     "end_time": "2022-03-05T20:54:45.394391Z",
     "start_time": "2022-03-05T20:54:45.382391Z"
    }
   },
   "outputs": [
    {
     "data": {
      "text/html": [
       "<div>\n",
       "<style scoped>\n",
       "    .dataframe tbody tr th:only-of-type {\n",
       "        vertical-align: middle;\n",
       "    }\n",
       "\n",
       "    .dataframe tbody tr th {\n",
       "        vertical-align: top;\n",
       "    }\n",
       "\n",
       "    .dataframe thead th {\n",
       "        text-align: right;\n",
       "    }\n",
       "</style>\n",
       "<table border=\"1\" class=\"dataframe\">\n",
       "  <thead>\n",
       "    <tr style=\"text-align: right;\">\n",
       "      <th></th>\n",
       "      <th>l100</th>\n",
       "      <th>mass</th>\n",
       "      <th>time100</th>\n",
       "      <th>displacement</th>\n",
       "      <th>type</th>\n",
       "      <th>colour</th>\n",
       "    </tr>\n",
       "  </thead>\n",
       "  <tbody>\n",
       "    <tr>\n",
       "      <th>0</th>\n",
       "      <td>3.6</td>\n",
       "      <td>997</td>\n",
       "      <td>8.6</td>\n",
       "      <td>4.2</td>\n",
       "      <td>0</td>\n",
       "      <td>1</td>\n",
       "    </tr>\n",
       "    <tr>\n",
       "      <th>1</th>\n",
       "      <td>4.8</td>\n",
       "      <td>2050</td>\n",
       "      <td>10.6</td>\n",
       "      <td>3.1</td>\n",
       "      <td>0</td>\n",
       "      <td>1</td>\n",
       "    </tr>\n",
       "    <tr>\n",
       "      <th>2</th>\n",
       "      <td>4.6</td>\n",
       "      <td>1265</td>\n",
       "      <td>9.7</td>\n",
       "      <td>3.3</td>\n",
       "      <td>0</td>\n",
       "      <td>1</td>\n",
       "    </tr>\n",
       "    <tr>\n",
       "      <th>3</th>\n",
       "      <td>4.3</td>\n",
       "      <td>1578</td>\n",
       "      <td>9.5</td>\n",
       "      <td>2.9</td>\n",
       "      <td>0</td>\n",
       "      <td>1</td>\n",
       "    </tr>\n",
       "    <tr>\n",
       "      <th>4</th>\n",
       "      <td>4.9</td>\n",
       "      <td>2343</td>\n",
       "      <td>11.8</td>\n",
       "      <td>1.7</td>\n",
       "      <td>0</td>\n",
       "      <td>1</td>\n",
       "    </tr>\n",
       "  </tbody>\n",
       "</table>\n",
       "</div>"
      ],
      "text/plain": [
       "   l100  mass  time100  displacement  type  colour\n",
       "0   3.6   997      8.6           4.2     0       1\n",
       "1   4.8  2050     10.6           3.1     0       1\n",
       "2   4.6  1265      9.7           3.3     0       1\n",
       "3   4.3  1578      9.5           2.9     0       1\n",
       "4   4.9  2343     11.8           1.7     0       1"
      ]
     },
     "execution_count": 60,
     "metadata": {},
     "output_type": "execute_result"
    }
   ],
   "source": [
    "my_data.head()"
   ]
  },
  {
   "cell_type": "markdown",
   "id": "0098797f",
   "metadata": {},
   "source": [
    "## Correlation matrix "
   ]
  },
  {
   "cell_type": "code",
   "execution_count": 53,
   "id": "3ce3e731",
   "metadata": {
    "ExecuteTime": {
     "end_time": "2022-03-05T20:53:55.431288Z",
     "start_time": "2022-03-05T20:53:55.418289Z"
    }
   },
   "outputs": [],
   "source": [
    "corr_matrix = my_data.corr()"
   ]
  },
  {
   "cell_type": "code",
   "execution_count": 54,
   "id": "6afba9c5",
   "metadata": {
    "ExecuteTime": {
     "end_time": "2022-03-05T20:53:55.845333Z",
     "start_time": "2022-03-05T20:53:55.831334Z"
    }
   },
   "outputs": [
    {
     "data": {
      "text/plain": [
       "l100            1.000000\n",
       "mass            0.698557\n",
       "type            0.520281\n",
       "displacement    0.163970\n",
       "colour         -0.053240\n",
       "time100        -0.178048\n",
       "Name: l100, dtype: float64"
      ]
     },
     "execution_count": 54,
     "metadata": {},
     "output_type": "execute_result"
    }
   ],
   "source": [
    "corr_matrix[\"l100\"].sort_values(ascending=False)"
   ]
  },
  {
   "cell_type": "code",
   "execution_count": 55,
   "id": "513d0732",
   "metadata": {
    "ExecuteTime": {
     "end_time": "2022-03-05T20:53:59.106234Z",
     "start_time": "2022-03-05T20:53:59.085235Z"
    }
   },
   "outputs": [
    {
     "data": {
      "text/html": [
       "<div>\n",
       "<style scoped>\n",
       "    .dataframe tbody tr th:only-of-type {\n",
       "        vertical-align: middle;\n",
       "    }\n",
       "\n",
       "    .dataframe tbody tr th {\n",
       "        vertical-align: top;\n",
       "    }\n",
       "\n",
       "    .dataframe thead th {\n",
       "        text-align: right;\n",
       "    }\n",
       "</style>\n",
       "<table border=\"1\" class=\"dataframe\">\n",
       "  <thead>\n",
       "    <tr style=\"text-align: right;\">\n",
       "      <th></th>\n",
       "      <th>l100</th>\n",
       "      <th>mass</th>\n",
       "      <th>time100</th>\n",
       "      <th>displacement</th>\n",
       "      <th>type</th>\n",
       "      <th>colour</th>\n",
       "    </tr>\n",
       "  </thead>\n",
       "  <tbody>\n",
       "    <tr>\n",
       "      <th>l100</th>\n",
       "      <td>1.000000</td>\n",
       "      <td>0.698557</td>\n",
       "      <td>-0.178048</td>\n",
       "      <td>0.163970</td>\n",
       "      <td>0.520281</td>\n",
       "      <td>-0.053240</td>\n",
       "    </tr>\n",
       "    <tr>\n",
       "      <th>mass</th>\n",
       "      <td>0.698557</td>\n",
       "      <td>1.000000</td>\n",
       "      <td>-0.009509</td>\n",
       "      <td>0.007356</td>\n",
       "      <td>0.131606</td>\n",
       "      <td>-0.041749</td>\n",
       "    </tr>\n",
       "    <tr>\n",
       "      <th>time100</th>\n",
       "      <td>-0.178048</td>\n",
       "      <td>-0.009509</td>\n",
       "      <td>1.000000</td>\n",
       "      <td>-0.861046</td>\n",
       "      <td>0.098282</td>\n",
       "      <td>-0.027629</td>\n",
       "    </tr>\n",
       "    <tr>\n",
       "      <th>displacement</th>\n",
       "      <td>0.163970</td>\n",
       "      <td>0.007356</td>\n",
       "      <td>-0.861046</td>\n",
       "      <td>1.000000</td>\n",
       "      <td>-0.101790</td>\n",
       "      <td>0.054204</td>\n",
       "    </tr>\n",
       "    <tr>\n",
       "      <th>type</th>\n",
       "      <td>0.520281</td>\n",
       "      <td>0.131606</td>\n",
       "      <td>0.098282</td>\n",
       "      <td>-0.101790</td>\n",
       "      <td>1.000000</td>\n",
       "      <td>-0.136320</td>\n",
       "    </tr>\n",
       "    <tr>\n",
       "      <th>colour</th>\n",
       "      <td>-0.053240</td>\n",
       "      <td>-0.041749</td>\n",
       "      <td>-0.027629</td>\n",
       "      <td>0.054204</td>\n",
       "      <td>-0.136320</td>\n",
       "      <td>1.000000</td>\n",
       "    </tr>\n",
       "  </tbody>\n",
       "</table>\n",
       "</div>"
      ],
      "text/plain": [
       "                  l100      mass   time100  displacement      type    colour\n",
       "l100          1.000000  0.698557 -0.178048      0.163970  0.520281 -0.053240\n",
       "mass          0.698557  1.000000 -0.009509      0.007356  0.131606 -0.041749\n",
       "time100      -0.178048 -0.009509  1.000000     -0.861046  0.098282 -0.027629\n",
       "displacement  0.163970  0.007356 -0.861046      1.000000 -0.101790  0.054204\n",
       "type          0.520281  0.131606  0.098282     -0.101790  1.000000 -0.136320\n",
       "colour       -0.053240 -0.041749 -0.027629      0.054204 -0.136320  1.000000"
      ]
     },
     "execution_count": 55,
     "metadata": {},
     "output_type": "execute_result"
    }
   ],
   "source": [
    "corr_matrix"
   ]
  },
  {
   "cell_type": "markdown",
   "id": "7b86c220",
   "metadata": {},
   "source": [
    "### Prepare for ML "
   ]
  },
  {
   "cell_type": "code",
   "execution_count": 59,
   "id": "b27e8ee1",
   "metadata": {
    "ExecuteTime": {
     "end_time": "2022-03-05T20:54:32.501944Z",
     "start_time": "2022-03-05T20:54:32.479944Z"
    }
   },
   "outputs": [
    {
     "ename": "KeyError",
     "evalue": "\"['colour'] not found in axis\"",
     "output_type": "error",
     "traceback": [
      "\u001b[1;31m---------------------------------------------------------------------------\u001b[0m",
      "\u001b[1;31mKeyError\u001b[0m                                  Traceback (most recent call last)",
      "\u001b[1;32m~\\AppData\\Local\\Temp/ipykernel_6944/2113022753.py\u001b[0m in \u001b[0;36m<module>\u001b[1;34m\u001b[0m\n\u001b[0;32m      1\u001b[0m \u001b[0mx\u001b[0m \u001b[1;33m=\u001b[0m \u001b[0mmy_data\u001b[0m\u001b[1;33m.\u001b[0m\u001b[0mdrop\u001b[0m\u001b[1;33m(\u001b[0m\u001b[1;34m\"l100\"\u001b[0m\u001b[1;33m,\u001b[0m\u001b[0maxis\u001b[0m\u001b[1;33m=\u001b[0m\u001b[1;36m1\u001b[0m\u001b[1;33m)\u001b[0m\u001b[1;33m\u001b[0m\u001b[1;33m\u001b[0m\u001b[0m\n\u001b[1;32m----> 2\u001b[1;33m \u001b[0mx\u001b[0m\u001b[1;33m.\u001b[0m\u001b[0mdrop\u001b[0m\u001b[1;33m(\u001b[0m\u001b[1;34m\"colour\"\u001b[0m\u001b[1;33m,\u001b[0m \u001b[0minplace\u001b[0m\u001b[1;33m=\u001b[0m\u001b[1;32mTrue\u001b[0m\u001b[1;33m)\u001b[0m\u001b[1;33m\u001b[0m\u001b[1;33m\u001b[0m\u001b[0m\n\u001b[0m\u001b[0;32m      3\u001b[0m \u001b[0mx\u001b[0m\u001b[1;33m.\u001b[0m\u001b[0mhead\u001b[0m\u001b[1;33m(\u001b[0m\u001b[1;33m)\u001b[0m\u001b[1;33m\u001b[0m\u001b[1;33m\u001b[0m\u001b[0m\n",
      "\u001b[1;32mC:\\ProgramData\\Anaconda3\\lib\\site-packages\\pandas\\util\\_decorators.py\u001b[0m in \u001b[0;36mwrapper\u001b[1;34m(*args, **kwargs)\u001b[0m\n\u001b[0;32m    309\u001b[0m                     \u001b[0mstacklevel\u001b[0m\u001b[1;33m=\u001b[0m\u001b[0mstacklevel\u001b[0m\u001b[1;33m,\u001b[0m\u001b[1;33m\u001b[0m\u001b[1;33m\u001b[0m\u001b[0m\n\u001b[0;32m    310\u001b[0m                 )\n\u001b[1;32m--> 311\u001b[1;33m             \u001b[1;32mreturn\u001b[0m \u001b[0mfunc\u001b[0m\u001b[1;33m(\u001b[0m\u001b[1;33m*\u001b[0m\u001b[0margs\u001b[0m\u001b[1;33m,\u001b[0m \u001b[1;33m**\u001b[0m\u001b[0mkwargs\u001b[0m\u001b[1;33m)\u001b[0m\u001b[1;33m\u001b[0m\u001b[1;33m\u001b[0m\u001b[0m\n\u001b[0m\u001b[0;32m    312\u001b[0m \u001b[1;33m\u001b[0m\u001b[0m\n\u001b[0;32m    313\u001b[0m         \u001b[1;32mreturn\u001b[0m \u001b[0mwrapper\u001b[0m\u001b[1;33m\u001b[0m\u001b[1;33m\u001b[0m\u001b[0m\n",
      "\u001b[1;32mC:\\ProgramData\\Anaconda3\\lib\\site-packages\\pandas\\core\\frame.py\u001b[0m in \u001b[0;36mdrop\u001b[1;34m(self, labels, axis, index, columns, level, inplace, errors)\u001b[0m\n\u001b[0;32m   4946\u001b[0m                 \u001b[0mweight\u001b[0m  \u001b[1;36m1.0\u001b[0m     \u001b[1;36m0.8\u001b[0m\u001b[1;33m\u001b[0m\u001b[1;33m\u001b[0m\u001b[0m\n\u001b[0;32m   4947\u001b[0m         \"\"\"\n\u001b[1;32m-> 4948\u001b[1;33m         return super().drop(\n\u001b[0m\u001b[0;32m   4949\u001b[0m             \u001b[0mlabels\u001b[0m\u001b[1;33m=\u001b[0m\u001b[0mlabels\u001b[0m\u001b[1;33m,\u001b[0m\u001b[1;33m\u001b[0m\u001b[1;33m\u001b[0m\u001b[0m\n\u001b[0;32m   4950\u001b[0m             \u001b[0maxis\u001b[0m\u001b[1;33m=\u001b[0m\u001b[0maxis\u001b[0m\u001b[1;33m,\u001b[0m\u001b[1;33m\u001b[0m\u001b[1;33m\u001b[0m\u001b[0m\n",
      "\u001b[1;32mC:\\ProgramData\\Anaconda3\\lib\\site-packages\\pandas\\core\\generic.py\u001b[0m in \u001b[0;36mdrop\u001b[1;34m(self, labels, axis, index, columns, level, inplace, errors)\u001b[0m\n\u001b[0;32m   4277\u001b[0m         \u001b[1;32mfor\u001b[0m \u001b[0maxis\u001b[0m\u001b[1;33m,\u001b[0m \u001b[0mlabels\u001b[0m \u001b[1;32min\u001b[0m \u001b[0maxes\u001b[0m\u001b[1;33m.\u001b[0m\u001b[0mitems\u001b[0m\u001b[1;33m(\u001b[0m\u001b[1;33m)\u001b[0m\u001b[1;33m:\u001b[0m\u001b[1;33m\u001b[0m\u001b[1;33m\u001b[0m\u001b[0m\n\u001b[0;32m   4278\u001b[0m             \u001b[1;32mif\u001b[0m \u001b[0mlabels\u001b[0m \u001b[1;32mis\u001b[0m \u001b[1;32mnot\u001b[0m \u001b[1;32mNone\u001b[0m\u001b[1;33m:\u001b[0m\u001b[1;33m\u001b[0m\u001b[1;33m\u001b[0m\u001b[0m\n\u001b[1;32m-> 4279\u001b[1;33m                 \u001b[0mobj\u001b[0m \u001b[1;33m=\u001b[0m \u001b[0mobj\u001b[0m\u001b[1;33m.\u001b[0m\u001b[0m_drop_axis\u001b[0m\u001b[1;33m(\u001b[0m\u001b[0mlabels\u001b[0m\u001b[1;33m,\u001b[0m \u001b[0maxis\u001b[0m\u001b[1;33m,\u001b[0m \u001b[0mlevel\u001b[0m\u001b[1;33m=\u001b[0m\u001b[0mlevel\u001b[0m\u001b[1;33m,\u001b[0m \u001b[0merrors\u001b[0m\u001b[1;33m=\u001b[0m\u001b[0merrors\u001b[0m\u001b[1;33m)\u001b[0m\u001b[1;33m\u001b[0m\u001b[1;33m\u001b[0m\u001b[0m\n\u001b[0m\u001b[0;32m   4280\u001b[0m \u001b[1;33m\u001b[0m\u001b[0m\n\u001b[0;32m   4281\u001b[0m         \u001b[1;32mif\u001b[0m \u001b[0minplace\u001b[0m\u001b[1;33m:\u001b[0m\u001b[1;33m\u001b[0m\u001b[1;33m\u001b[0m\u001b[0m\n",
      "\u001b[1;32mC:\\ProgramData\\Anaconda3\\lib\\site-packages\\pandas\\core\\generic.py\u001b[0m in \u001b[0;36m_drop_axis\u001b[1;34m(self, labels, axis, level, errors, consolidate, only_slice)\u001b[0m\n\u001b[0;32m   4321\u001b[0m                 \u001b[0mnew_axis\u001b[0m \u001b[1;33m=\u001b[0m \u001b[0maxis\u001b[0m\u001b[1;33m.\u001b[0m\u001b[0mdrop\u001b[0m\u001b[1;33m(\u001b[0m\u001b[0mlabels\u001b[0m\u001b[1;33m,\u001b[0m \u001b[0mlevel\u001b[0m\u001b[1;33m=\u001b[0m\u001b[0mlevel\u001b[0m\u001b[1;33m,\u001b[0m \u001b[0merrors\u001b[0m\u001b[1;33m=\u001b[0m\u001b[0merrors\u001b[0m\u001b[1;33m)\u001b[0m\u001b[1;33m\u001b[0m\u001b[1;33m\u001b[0m\u001b[0m\n\u001b[0;32m   4322\u001b[0m             \u001b[1;32melse\u001b[0m\u001b[1;33m:\u001b[0m\u001b[1;33m\u001b[0m\u001b[1;33m\u001b[0m\u001b[0m\n\u001b[1;32m-> 4323\u001b[1;33m                 \u001b[0mnew_axis\u001b[0m \u001b[1;33m=\u001b[0m \u001b[0maxis\u001b[0m\u001b[1;33m.\u001b[0m\u001b[0mdrop\u001b[0m\u001b[1;33m(\u001b[0m\u001b[0mlabels\u001b[0m\u001b[1;33m,\u001b[0m \u001b[0merrors\u001b[0m\u001b[1;33m=\u001b[0m\u001b[0merrors\u001b[0m\u001b[1;33m)\u001b[0m\u001b[1;33m\u001b[0m\u001b[1;33m\u001b[0m\u001b[0m\n\u001b[0m\u001b[0;32m   4324\u001b[0m             \u001b[0mindexer\u001b[0m \u001b[1;33m=\u001b[0m \u001b[0maxis\u001b[0m\u001b[1;33m.\u001b[0m\u001b[0mget_indexer\u001b[0m\u001b[1;33m(\u001b[0m\u001b[0mnew_axis\u001b[0m\u001b[1;33m)\u001b[0m\u001b[1;33m\u001b[0m\u001b[1;33m\u001b[0m\u001b[0m\n\u001b[0;32m   4325\u001b[0m \u001b[1;33m\u001b[0m\u001b[0m\n",
      "\u001b[1;32mC:\\ProgramData\\Anaconda3\\lib\\site-packages\\pandas\\core\\indexes\\base.py\u001b[0m in \u001b[0;36mdrop\u001b[1;34m(self, labels, errors)\u001b[0m\n\u001b[0;32m   6642\u001b[0m         \u001b[1;32mif\u001b[0m \u001b[0mmask\u001b[0m\u001b[1;33m.\u001b[0m\u001b[0many\u001b[0m\u001b[1;33m(\u001b[0m\u001b[1;33m)\u001b[0m\u001b[1;33m:\u001b[0m\u001b[1;33m\u001b[0m\u001b[1;33m\u001b[0m\u001b[0m\n\u001b[0;32m   6643\u001b[0m             \u001b[1;32mif\u001b[0m \u001b[0merrors\u001b[0m \u001b[1;33m!=\u001b[0m \u001b[1;34m\"ignore\"\u001b[0m\u001b[1;33m:\u001b[0m\u001b[1;33m\u001b[0m\u001b[1;33m\u001b[0m\u001b[0m\n\u001b[1;32m-> 6644\u001b[1;33m                 \u001b[1;32mraise\u001b[0m \u001b[0mKeyError\u001b[0m\u001b[1;33m(\u001b[0m\u001b[1;34mf\"{list(labels[mask])} not found in axis\"\u001b[0m\u001b[1;33m)\u001b[0m\u001b[1;33m\u001b[0m\u001b[1;33m\u001b[0m\u001b[0m\n\u001b[0m\u001b[0;32m   6645\u001b[0m             \u001b[0mindexer\u001b[0m \u001b[1;33m=\u001b[0m \u001b[0mindexer\u001b[0m\u001b[1;33m[\u001b[0m\u001b[1;33m~\u001b[0m\u001b[0mmask\u001b[0m\u001b[1;33m]\u001b[0m\u001b[1;33m\u001b[0m\u001b[1;33m\u001b[0m\u001b[0m\n\u001b[0;32m   6646\u001b[0m         \u001b[1;32mreturn\u001b[0m \u001b[0mself\u001b[0m\u001b[1;33m.\u001b[0m\u001b[0mdelete\u001b[0m\u001b[1;33m(\u001b[0m\u001b[0mindexer\u001b[0m\u001b[1;33m)\u001b[0m\u001b[1;33m\u001b[0m\u001b[1;33m\u001b[0m\u001b[0m\n",
      "\u001b[1;31mKeyError\u001b[0m: \"['colour'] not found in axis\""
     ]
    }
   ],
   "source": [
    "x = my_data.drop(\"l100\",axis=1)\n",
    "x.drop(\"colour\", inplace=True)\n",
    "x.head()"
   ]
  },
  {
   "cell_type": "code",
   "execution_count": 42,
   "id": "ec450095",
   "metadata": {
    "ExecuteTime": {
     "end_time": "2022-03-05T20:52:54.500391Z",
     "start_time": "2022-03-05T20:52:54.483388Z"
    }
   },
   "outputs": [
    {
     "data": {
      "text/html": [
       "<div>\n",
       "<style scoped>\n",
       "    .dataframe tbody tr th:only-of-type {\n",
       "        vertical-align: middle;\n",
       "    }\n",
       "\n",
       "    .dataframe tbody tr th {\n",
       "        vertical-align: top;\n",
       "    }\n",
       "\n",
       "    .dataframe thead th {\n",
       "        text-align: right;\n",
       "    }\n",
       "</style>\n",
       "<table border=\"1\" class=\"dataframe\">\n",
       "  <thead>\n",
       "    <tr style=\"text-align: right;\">\n",
       "      <th></th>\n",
       "      <th>mass</th>\n",
       "      <th>time100</th>\n",
       "      <th>displacement</th>\n",
       "      <th>type</th>\n",
       "      <th>colour</th>\n",
       "    </tr>\n",
       "  </thead>\n",
       "  <tbody>\n",
       "    <tr>\n",
       "      <th>0</th>\n",
       "      <td>997</td>\n",
       "      <td>8.6</td>\n",
       "      <td>4.2</td>\n",
       "      <td>0</td>\n",
       "      <td>other</td>\n",
       "    </tr>\n",
       "    <tr>\n",
       "      <th>1</th>\n",
       "      <td>2050</td>\n",
       "      <td>10.6</td>\n",
       "      <td>3.1</td>\n",
       "      <td>0</td>\n",
       "      <td>other</td>\n",
       "    </tr>\n",
       "    <tr>\n",
       "      <th>2</th>\n",
       "      <td>1265</td>\n",
       "      <td>9.7</td>\n",
       "      <td>3.3</td>\n",
       "      <td>0</td>\n",
       "      <td>other</td>\n",
       "    </tr>\n",
       "    <tr>\n",
       "      <th>3</th>\n",
       "      <td>1578</td>\n",
       "      <td>9.5</td>\n",
       "      <td>2.9</td>\n",
       "      <td>0</td>\n",
       "      <td>other</td>\n",
       "    </tr>\n",
       "    <tr>\n",
       "      <th>4</th>\n",
       "      <td>2343</td>\n",
       "      <td>11.8</td>\n",
       "      <td>1.7</td>\n",
       "      <td>0</td>\n",
       "      <td>other</td>\n",
       "    </tr>\n",
       "    <tr>\n",
       "      <th>...</th>\n",
       "      <td>...</td>\n",
       "      <td>...</td>\n",
       "      <td>...</td>\n",
       "      <td>...</td>\n",
       "      <td>...</td>\n",
       "    </tr>\n",
       "    <tr>\n",
       "      <th>495</th>\n",
       "      <td>1885</td>\n",
       "      <td>9.3</td>\n",
       "      <td>2.9</td>\n",
       "      <td>1</td>\n",
       "      <td>other</td>\n",
       "    </tr>\n",
       "    <tr>\n",
       "      <th>496</th>\n",
       "      <td>1407</td>\n",
       "      <td>10.0</td>\n",
       "      <td>2.4</td>\n",
       "      <td>1</td>\n",
       "      <td>other</td>\n",
       "    </tr>\n",
       "    <tr>\n",
       "      <th>497</th>\n",
       "      <td>1569</td>\n",
       "      <td>9.7</td>\n",
       "      <td>2.6</td>\n",
       "      <td>1</td>\n",
       "      <td>other</td>\n",
       "    </tr>\n",
       "    <tr>\n",
       "      <th>498</th>\n",
       "      <td>1836</td>\n",
       "      <td>12.5</td>\n",
       "      <td>1.7</td>\n",
       "      <td>1</td>\n",
       "      <td>other</td>\n",
       "    </tr>\n",
       "    <tr>\n",
       "      <th>499</th>\n",
       "      <td>2086</td>\n",
       "      <td>9.3</td>\n",
       "      <td>2.3</td>\n",
       "      <td>1</td>\n",
       "      <td>other</td>\n",
       "    </tr>\n",
       "  </tbody>\n",
       "</table>\n",
       "<p>500 rows × 5 columns</p>\n",
       "</div>"
      ],
      "text/plain": [
       "     mass  time100  displacement  type colour\n",
       "0     997      8.6           4.2     0  other\n",
       "1    2050     10.6           3.1     0  other\n",
       "2    1265      9.7           3.3     0  other\n",
       "3    1578      9.5           2.9     0  other\n",
       "4    2343     11.8           1.7     0  other\n",
       "..    ...      ...           ...   ...    ...\n",
       "495  1885      9.3           2.9     1  other\n",
       "496  1407     10.0           2.4     1  other\n",
       "497  1569      9.7           2.6     1  other\n",
       "498  1836     12.5           1.7     1  other\n",
       "499  2086      9.3           2.3     1  other\n",
       "\n",
       "[500 rows x 5 columns]"
      ]
     },
     "execution_count": 42,
     "metadata": {},
     "output_type": "execute_result"
    }
   ],
   "source": [
    "x"
   ]
  },
  {
   "cell_type": "code",
   "execution_count": null,
   "id": "6c88259f",
   "metadata": {},
   "outputs": [],
   "source": []
  }
 ],
 "metadata": {
  "kernelspec": {
   "display_name": "Python 3 (ipykernel)",
   "language": "python",
   "name": "python3"
  },
  "language_info": {
   "codemirror_mode": {
    "name": "ipython",
    "version": 3
   },
   "file_extension": ".py",
   "mimetype": "text/x-python",
   "name": "python",
   "nbconvert_exporter": "python",
   "pygments_lexer": "ipython3",
   "version": "3.8.12"
  }
 },
 "nbformat": 4,
 "nbformat_minor": 5
}
